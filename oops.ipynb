{
 "cells": [
  {
   "cell_type": "markdown",
   "id": "2a3b90a9-3f23-40d7-8360-7de55c5c8d1a",
   "metadata": {},
   "source": [
    "Abstraction:"
   ]
  },
  {
   "cell_type": "markdown",
   "id": "f8cc7af2-de60-4a90-a1cb-b0cdc0a8ed06",
   "metadata": {},
   "source": [
    "Encapsulation is the practice of hiding internal object details (like data) and only exposing necessary parts using methods.\n",
    "\n",
    "Helps protect data from accidental changes.\n",
    "\n",
    "Promotes security and code maintainability"
   ]
  },
  {
   "cell_type": "markdown",
   "id": "b7b8d0e2-f5ed-44ec-ab06-4fd7257fcdbc",
   "metadata": {},
   "source": [
    "( no underscore ) - public - can be used anywhere\n",
    "\n",
    "( single underscore ) - protected - can be used inside class and subclass ( child class )\n",
    "\n",
    "( double underscore ) - private - can be used only inside its own class "
   ]
  },
  {
   "cell_type": "code",
   "execution_count": 1,
   "id": "f5e8d6be-2d00-411f-b1c7-78a8d72c0a22",
   "metadata": {},
   "outputs": [
    {
     "data": {
      "text/plain": [
       "'BMW'"
      ]
     },
     "execution_count": 1,
     "metadata": {},
     "output_type": "execute_result"
    }
   ],
   "source": [
    "class SmartCar:\n",
    "    def __init__(self,brand,battery_lvl,status):\n",
    "        self.brand = brand\n",
    "        self._battery_lvl = min(max(battery_lvl,0),100)\n",
    "        self.__lock_status = bool(status)\n",
    "\n",
    "    def drive(self):\n",
    "        if not self.__lock_status and self._battery_lvl > 20:\n",
    "            print(\"thooki soruvanum mapla\")\n",
    "        elif self.__lock_status:\n",
    "            print(\"veh locked\")\n",
    "        else:\n",
    "            print(\"charge illa mame\")\n",
    "\n",
    "    def charge(self,amount):\n",
    "        if self._battery_lvl + amount > 100:\n",
    "            print(\"cannot charge more than 100 %\")\n",
    "        else:\n",
    "            self._battery_lvl += amount\n",
    "\n",
    "    @property\n",
    "    def show_charge(self):\n",
    "        return self._battery_lvl\n",
    "\n",
    "    @show_charge.setter\n",
    "    def set_battery_lvl(self,value):\n",
    "        self._battery_lvl = min(max(value,0),100)\n",
    "\n",
    "    @property\n",
    "    def status(self):\n",
    "        return \"Car locked\" if self.__lock_status else \"Car unlocked\"\n",
    "\n",
    "\n",
    "    @status.setter\n",
    "    def status(self,val):\n",
    "        if val.lower() == \"lock\":\n",
    "            self.__lock_status = True\n",
    "        elif val.lower() == \"unlock\":\n",
    "            self.__lock_status = False\n",
    "        else:\n",
    "            print(\"invalid lock value\")\n",
    "\n",
    "mycar = SmartCar(\"BMW\",119,False)\n",
    "mycar.brand"
   ]
  },
  {
   "cell_type": "code",
   "execution_count": 2,
   "id": "68a3d038-0628-4643-966a-436b57591d1c",
   "metadata": {},
   "outputs": [
    {
     "name": "stdout",
     "output_type": "stream",
     "text": [
      "thooki soruvanum mapla\n"
     ]
    }
   ],
   "source": [
    "mycar.drive()"
   ]
  },
  {
   "cell_type": "code",
   "execution_count": 3,
   "id": "befb38c5-19ec-4a77-8a52-7b9029ca4e85",
   "metadata": {},
   "outputs": [
    {
     "name": "stdout",
     "output_type": "stream",
     "text": [
      "cannot charge more than 100 %\n"
     ]
    }
   ],
   "source": [
    "mycar.charge(30)"
   ]
  },
  {
   "cell_type": "code",
   "execution_count": 52,
   "id": "0c6c6c72-97bc-4130-830a-d4e17cb7b724",
   "metadata": {},
   "outputs": [],
   "source": [
    "mycar.status = \"lock\""
   ]
  },
  {
   "cell_type": "code",
   "execution_count": 53,
   "id": "607c3b3f-34db-42f8-812d-77be0510e309",
   "metadata": {},
   "outputs": [],
   "source": [
    "mycar.status = \"unlock\""
   ]
  },
  {
   "cell_type": "code",
   "execution_count": 54,
   "id": "d323034a-cfa5-47df-9c20-ee734c91afe3",
   "metadata": {},
   "outputs": [
    {
     "data": {
      "text/plain": [
       "100"
      ]
     },
     "execution_count": 54,
     "metadata": {},
     "output_type": "execute_result"
    }
   ],
   "source": [
    "mycar.show_charge"
   ]
  },
  {
   "cell_type": "code",
   "execution_count": 55,
   "id": "93369cf0-f814-40c8-8156-14f61500d6f4",
   "metadata": {},
   "outputs": [
    {
     "data": {
      "text/plain": [
       "'Car unlocked'"
      ]
     },
     "execution_count": 55,
     "metadata": {},
     "output_type": "execute_result"
    }
   ],
   "source": [
    "mycar.status"
   ]
  },
  {
   "cell_type": "markdown",
   "id": "c9f2d39b-21d6-4fef-af66-af15f5fa4428",
   "metadata": {},
   "source": [
    "Abstraction:"
   ]
  },
  {
   "cell_type": "markdown",
   "id": "6420de04-9ee1-4843-8001-2e5b52623d22",
   "metadata": {},
   "source": [
    "Abstraction means hiding internal implementation details and exposing only the essential interface.\n",
    "\n",
    "It’s about what an object does, not how it does it.\n",
    "\n",
    "child class should have all the method that a parent class is marked as abstract method"
   ]
  },
  {
   "cell_type": "code",
   "execution_count": 62,
   "id": "59b8a66c-0fed-4d1f-b8d1-5a45cd53c271",
   "metadata": {},
   "outputs": [],
   "source": [
    "from abc import ABC, abstractmethod"
   ]
  },
  {
   "cell_type": "code",
   "execution_count": 116,
   "id": "f8f1d3e9-a23a-4268-a8c1-833bedef8da8",
   "metadata": {},
   "outputs": [],
   "source": [
    "class Smartdevice(ABC):\n",
    "    def __init__(self,brand,location):\n",
    "        self.brand = brand\n",
    "        self.location = location\n",
    "\n",
    "    @abstractmethod\n",
    "    def turn_on(self):\n",
    "        pass\n",
    "\n",
    "    @abstractmethod\n",
    "    def turn_off(self):\n",
    "        pass\n",
    "\n",
    "    @abstractmethod\n",
    "    def status(self):\n",
    "        pass\n",
    "\n",
    "    def device_info(self):\n",
    "        print(f\"{self.brand} is at {self.location}\")\n",
    "\n",
    "\n",
    "class Smartfan(Smartdevice):\n",
    "    def __init__(self,status,brand,location):\n",
    "        self._status = bool(status)\n",
    "        super().__init__(brand,location)\n",
    "\n",
    "    def turn_on(self):\n",
    "        if not self._status: \n",
    "            self._status = True\n",
    "            print(f\"{self.brand} is ON\")\n",
    "        else:\n",
    "            print(f\"{self.brand} is already ON\")\n",
    "            \n",
    "    def turn_off(self):\n",
    "        if self._status:\n",
    "            self._status = False\n",
    "            print(f\"{self.brand} is now OFF\")\n",
    "        else:\n",
    "            print(f\"{self.brand} is already OFF\")\n",
    "\n",
    "    def status(self):\n",
    "        return f\"{self.brand} is OFF\" if not self._status else f\"{self.brand} is now ON\"\n",
    "\n",
    "    def device_info(self):\n",
    "        print(f\"{self.brand} is now {'ON' if self._status else 'OFF'} at {self.location}\")\n",
    "\n",
    "\n",
    "class SmartLight(Smartdevice):\n",
    "    def __init__(self,status,brand,location):\n",
    "        self._status = bool(status)\n",
    "        super().__init__(brand,location)\n",
    "\n",
    "    def turn_on(self):\n",
    "        if not self._status: \n",
    "            print(f\"{self.brand} is ON\")\n",
    "        else:\n",
    "            print(f\"{self.brand} is already ON\")\n",
    "            \n",
    "    def turn_off(self):\n",
    "        if not self._status:\n",
    "            print(f\"{self.brand} is already OFF\")\n",
    "\n",
    "        else:\n",
    "            print(f\"{self.brand} is now OFF\")\n",
    "\n",
    "    def status(self):\n",
    "        return f\"{self.brand} is OFF\" if not self._status else f\"{self.brand} is now ON\"\n",
    "\n",
    "    def device_info(self):\n",
    "        print(f\"{self.brand} is now {'ON' if self._status else 'OFF'} at {self.location}\")\n",
    "\n",
    "\n",
    "fan1 = Smartfan(brand=\"Havells\",location=\"Hall\",status = False)\n",
    "light1 = SmartLight(brand=\"Philips\",location=\"Kitchen\",status=True)"
   ]
  },
  {
   "cell_type": "code",
   "execution_count": 117,
   "id": "a63a2caa-b2d2-4382-927e-9149a4c0e596",
   "metadata": {},
   "outputs": [
    {
     "name": "stdout",
     "output_type": "stream",
     "text": [
      "Havells is ON\n"
     ]
    }
   ],
   "source": [
    "fan1.turn_on()"
   ]
  },
  {
   "cell_type": "code",
   "execution_count": 118,
   "id": "0a10e24c-8402-4105-a19c-de9384d0f2bb",
   "metadata": {},
   "outputs": [
    {
     "name": "stdout",
     "output_type": "stream",
     "text": [
      "Havells is now OFF\n"
     ]
    }
   ],
   "source": [
    "fan1.turn_off()"
   ]
  },
  {
   "cell_type": "code",
   "execution_count": 119,
   "id": "bb8fbfac-bdca-43a5-b2e2-92a312a0156b",
   "metadata": {},
   "outputs": [
    {
     "name": "stdout",
     "output_type": "stream",
     "text": [
      "Havells is now OFF at Hall\n"
     ]
    }
   ],
   "source": [
    "fan1.device_info()"
   ]
  },
  {
   "cell_type": "code",
   "execution_count": 120,
   "id": "96242c48-b6f9-4d4c-9d4a-5ec357fee82e",
   "metadata": {},
   "outputs": [
    {
     "data": {
      "text/plain": [
       "'Hall'"
      ]
     },
     "execution_count": 120,
     "metadata": {},
     "output_type": "execute_result"
    }
   ],
   "source": [
    "fan1.location"
   ]
  },
  {
   "cell_type": "code",
   "execution_count": 121,
   "id": "a92aae4d-e987-4359-816a-f81343b8aa81",
   "metadata": {},
   "outputs": [
    {
     "data": {
      "text/plain": [
       "'Havells is OFF'"
      ]
     },
     "execution_count": 121,
     "metadata": {},
     "output_type": "execute_result"
    }
   ],
   "source": [
    "fan1.status()"
   ]
  },
  {
   "cell_type": "code",
   "execution_count": 122,
   "id": "52202d97-3440-44e3-bfb2-9cb8d6f5a0ba",
   "metadata": {},
   "outputs": [
    {
     "name": "stdout",
     "output_type": "stream",
     "text": [
      "Philips is now ON at Kitchen\n"
     ]
    }
   ],
   "source": [
    "light1.device_info()"
   ]
  },
  {
   "cell_type": "code",
   "execution_count": 123,
   "id": "0b78ae93-e224-4929-9036-212ba2092a17",
   "metadata": {},
   "outputs": [
    {
     "name": "stdout",
     "output_type": "stream",
     "text": [
      "Philips is now OFF\n"
     ]
    }
   ],
   "source": [
    "light1.turn_off()"
   ]
  },
  {
   "cell_type": "code",
   "execution_count": 124,
   "id": "0beb78dc-a230-4683-9eaf-8c0a278ef824",
   "metadata": {},
   "outputs": [
    {
     "data": {
      "text/plain": [
       "'Philips is now ON'"
      ]
     },
     "execution_count": 124,
     "metadata": {},
     "output_type": "execute_result"
    }
   ],
   "source": [
    "light1.status()"
   ]
  },
  {
   "cell_type": "code",
   "execution_count": 125,
   "id": "08e92281-76e8-4fc8-9127-2fb74b32f5ef",
   "metadata": {},
   "outputs": [
    {
     "data": {
      "text/plain": [
       "'Philips'"
      ]
     },
     "execution_count": 125,
     "metadata": {},
     "output_type": "execute_result"
    }
   ],
   "source": [
    "light1.brand"
   ]
  },
  {
   "cell_type": "code",
   "execution_count": 133,
   "id": "e1c22797-195b-41f7-a519-40455c2ee158",
   "metadata": {},
   "outputs": [],
   "source": [
    "class A(ABC):\n",
    "    @abstractmethod\n",
    "    def do_a(self): pass\n",
    "\n",
    "class B(A):\n",
    "    @abstractmethod\n",
    "    def do_b(self): pass\n",
    "\n",
    "class C(B):\n",
    "    def do_a(self): print(\"Doing A\")\n",
    "    def do_b(self): print(\"Doing B\")\n",
    "a = C()"
   ]
  },
  {
   "cell_type": "code",
   "execution_count": 135,
   "id": "6dd8aac0-c3de-4dc2-a03c-7f012c14be2c",
   "metadata": {},
   "outputs": [
    {
     "name": "stdout",
     "output_type": "stream",
     "text": [
      "Doing A\n",
      "Doing B\n"
     ]
    }
   ],
   "source": [
    "a.do_a()\n",
    "a.do_b()"
   ]
  },
  {
   "cell_type": "markdown",
   "id": "4ef991d4-55dc-438e-afe0-8951fd2e5dc4",
   "metadata": {},
   "source": [
    "Inheritence:"
   ]
  },
  {
   "cell_type": "markdown",
   "id": "9c1f045e-5e5f-4171-8d61-3af1bb37b91c",
   "metadata": {},
   "source": [
    "Single Inheritence: one parent - one child ( vehicle - car )\n",
    "\n",
    "Multilevel Inheritence: Grandparent - parent - child ( vehicle - car - smartcar )"
   ]
  },
  {
   "cell_type": "code",
   "execution_count": 151,
   "id": "5c0d2be0-67f5-410b-b752-61356018cec5",
   "metadata": {},
   "outputs": [],
   "source": [
    "class vehicle:\n",
    "    def __init__(self,brand,wheels):\n",
    "        self.brand = brand\n",
    "        self.wheels = int(wheels)\n",
    "\n",
    "    def info(self):\n",
    "        print(f\"{self.brand} has {self.wheels} wheels\")\n",
    "\n",
    "class Car(vehicle):\n",
    "    def __init__(self,brand,wheels,fuel_type):\n",
    "        super().__init__(brand,wheels)\n",
    "        self.fuel_type = fuel_type\n",
    "\n",
    "    def start(self):\n",
    "        print(f\"{self.brand} has started , its a {self.fuel_type} model\")\n",
    "\n",
    "class Smartcar(Car):\n",
    "    def __init__(self,brand,wheels,fuel_type,os_version):\n",
    "        super().__init__(brand,wheels,fuel_type)\n",
    "        self.os_version = os_version\n",
    "\n",
    "    def start(self):\n",
    "        super().start()\n",
    "        print(f\"Smart features initialized with version {self.os_version}\")\n",
    "\n",
    "car1 = Car(brand=\"Maruti\",wheels=4,fuel_type=\"Petrol\")\n",
    "car2 = Smartcar(brand=\"Tesla\",wheels=4,fuel_type=\"Electric\",os_version=6.9)"
   ]
  },
  {
   "cell_type": "code",
   "execution_count": 145,
   "id": "93e22cd7-3763-42e1-a02a-46f48ef32eb2",
   "metadata": {},
   "outputs": [
    {
     "data": {
      "text/plain": [
       "'Petrol'"
      ]
     },
     "execution_count": 145,
     "metadata": {},
     "output_type": "execute_result"
    }
   ],
   "source": [
    "car1.brand"
   ]
  },
  {
   "cell_type": "code",
   "execution_count": 146,
   "id": "d83d1355-1f75-44f9-83a6-e010c434376c",
   "metadata": {},
   "outputs": [
    {
     "data": {
      "text/plain": [
       "'Petrol'"
      ]
     },
     "execution_count": 146,
     "metadata": {},
     "output_type": "execute_result"
    }
   ],
   "source": [
    "car1.fuel_type"
   ]
  },
  {
   "cell_type": "code",
   "execution_count": 152,
   "id": "877294a6-471f-443b-8224-f5a26d557ecf",
   "metadata": {},
   "outputs": [
    {
     "name": "stdout",
     "output_type": "stream",
     "text": [
      "Maruti has 4 wheels\n"
     ]
    }
   ],
   "source": [
    "car1.info()"
   ]
  },
  {
   "cell_type": "code",
   "execution_count": 153,
   "id": "a249c065-9f1e-4f56-89c0-5803a086c1d6",
   "metadata": {},
   "outputs": [
    {
     "data": {
      "text/plain": [
       "4"
      ]
     },
     "execution_count": 153,
     "metadata": {},
     "output_type": "execute_result"
    }
   ],
   "source": [
    "car1.wheels"
   ]
  },
  {
   "cell_type": "code",
   "execution_count": 155,
   "id": "7ea06a03-0869-4d1d-abc1-b01c1dbfdb91",
   "metadata": {},
   "outputs": [
    {
     "name": "stdout",
     "output_type": "stream",
     "text": [
      "Maruti has started , its a Petrol model\n"
     ]
    }
   ],
   "source": [
    "car1.start()"
   ]
  },
  {
   "cell_type": "code",
   "execution_count": 156,
   "id": "a7a69f90-d03b-46a8-910e-7f938a670c2b",
   "metadata": {},
   "outputs": [
    {
     "data": {
      "text/plain": [
       "'Tesla'"
      ]
     },
     "execution_count": 156,
     "metadata": {},
     "output_type": "execute_result"
    }
   ],
   "source": [
    "car2.brand"
   ]
  },
  {
   "cell_type": "code",
   "execution_count": 157,
   "id": "ffa9dfdd-962a-43a0-8d77-ca22e1585c43",
   "metadata": {},
   "outputs": [
    {
     "data": {
      "text/plain": [
       "4"
      ]
     },
     "execution_count": 157,
     "metadata": {},
     "output_type": "execute_result"
    }
   ],
   "source": [
    "car2.wheels"
   ]
  },
  {
   "cell_type": "code",
   "execution_count": 158,
   "id": "a436aa16-fdd9-45c6-8a06-77577cead929",
   "metadata": {},
   "outputs": [
    {
     "data": {
      "text/plain": [
       "'Electric'"
      ]
     },
     "execution_count": 158,
     "metadata": {},
     "output_type": "execute_result"
    }
   ],
   "source": [
    "car2.fuel_type"
   ]
  },
  {
   "cell_type": "code",
   "execution_count": 159,
   "id": "d279d641-249d-4cf3-94fc-0631c5a23cf5",
   "metadata": {},
   "outputs": [
    {
     "name": "stdout",
     "output_type": "stream",
     "text": [
      "Tesla has 4 wheels\n"
     ]
    }
   ],
   "source": [
    "car2.info()"
   ]
  },
  {
   "cell_type": "code",
   "execution_count": 160,
   "id": "cbc431e7-dece-4efa-8e76-a93289ad6e42",
   "metadata": {},
   "outputs": [
    {
     "data": {
      "text/plain": [
       "6.9"
      ]
     },
     "execution_count": 160,
     "metadata": {},
     "output_type": "execute_result"
    }
   ],
   "source": [
    "car2.os_version"
   ]
  },
  {
   "cell_type": "code",
   "execution_count": 161,
   "id": "d6095235-1f5e-4029-9aa6-b0168b966242",
   "metadata": {},
   "outputs": [
    {
     "name": "stdout",
     "output_type": "stream",
     "text": [
      "Tesla has started , its a Electric model\n",
      "Smart features initialized with smart features of version 6.9\n"
     ]
    }
   ],
   "source": [
    "car2.start()"
   ]
  },
  {
   "cell_type": "markdown",
   "id": "934b5af1-ba9c-43e5-aa56-027627db1609",
   "metadata": {},
   "source": [
    "Multiple Ineritance: child has more than one parent"
   ]
  },
  {
   "cell_type": "code",
   "execution_count": 174,
   "id": "5f711686-6752-4010-89a2-2400ad752204",
   "metadata": {},
   "outputs": [],
   "source": [
    "class Device:\n",
    "    def __init__(self,brand):\n",
    "        self.brand = brand\n",
    "\n",
    "    def device_info(self):\n",
    "        pass\n",
    "\n",
    "class Smart_Fan(Device):\n",
    "    def __init__(self,brand):\n",
    "        super().__init__(brand)\n",
    "    def fan_feature(self):\n",
    "        print(\"Fan speed can be controlled\")\n",
    "\n",
    "class Smart_Light(Device):\n",
    "    def __init__(self,brand):\n",
    "        super().__init__(brand)\n",
    "    def light_feature(self):\n",
    "        print(\"Light color can be controlled\")\n",
    "\n",
    "class SmartHomeController(Smart_Fan,Smart_Light):\n",
    "    def __init__(self,brand):\n",
    "        Smart_Fan.__init__(self,brand)\n",
    "        Smart_Light.__init__(self,brand)\n",
    "    \n",
    "    def controll_all(self):\n",
    "        self.fan_feature()\n",
    "        self.light_feature()\n",
    "        \n",
    "remote1 = SmartHomeController(\"LG\")"
   ]
  },
  {
   "cell_type": "code",
   "execution_count": 175,
   "id": "ac45bd6f-a100-4500-a7bf-4f9d15efee0d",
   "metadata": {},
   "outputs": [
    {
     "data": {
      "text/plain": [
       "'LG'"
      ]
     },
     "execution_count": 175,
     "metadata": {},
     "output_type": "execute_result"
    }
   ],
   "source": [
    "remote1.brand"
   ]
  },
  {
   "cell_type": "code",
   "execution_count": 176,
   "id": "6baed42b-fc3d-4b84-904c-f1b9840a08a0",
   "metadata": {},
   "outputs": [
    {
     "name": "stdout",
     "output_type": "stream",
     "text": [
      "Fan speed can be controlled\n",
      "Light color can be controlled\n"
     ]
    }
   ],
   "source": [
    "remote1.controll_all()"
   ]
  },
  {
   "cell_type": "code",
   "execution_count": 177,
   "id": "a41f1e9e-ff43-438c-9763-c4321bd50fe1",
   "metadata": {},
   "outputs": [],
   "source": [
    "remote1.device_info()"
   ]
  },
  {
   "cell_type": "code",
   "execution_count": 178,
   "id": "f358690c-6110-4067-994d-61b0b63a9317",
   "metadata": {},
   "outputs": [
    {
     "name": "stdout",
     "output_type": "stream",
     "text": [
      "Fan speed can be controlled\n"
     ]
    }
   ],
   "source": [
    "remote1.fan_feature()"
   ]
  },
  {
   "cell_type": "code",
   "execution_count": 179,
   "id": "0166787e-c143-457d-a473-d7d91dce4a6c",
   "metadata": {},
   "outputs": [
    {
     "name": "stdout",
     "output_type": "stream",
     "text": [
      "Light color can be controlled\n"
     ]
    }
   ],
   "source": [
    "remote1.light_feature()"
   ]
  },
  {
   "cell_type": "markdown",
   "id": "81df7b41-8093-4ab2-b88f-61c094d428d3",
   "metadata": {},
   "source": [
    "MRO ( method resolution order ):"
   ]
  },
  {
   "cell_type": "code",
   "execution_count": 185,
   "id": "bc1293ce-c4b0-4934-ae2a-60712ee7b250",
   "metadata": {},
   "outputs": [],
   "source": [
    "class A:\n",
    "    def show(self):\n",
    "        print(\"A\")\n",
    "\n",
    "class B(A):\n",
    "    def show(self):\n",
    "        print(\"B\")\n",
    "\n",
    "class C(A):\n",
    "    def show(self):\n",
    "        print(\"C\")\n",
    "\n",
    "class D(B,C):\n",
    "    pass\n"
   ]
  },
  {
   "cell_type": "code",
   "execution_count": 186,
   "id": "84ba19ae-cf6b-4c9a-90a2-055779294fac",
   "metadata": {},
   "outputs": [
    {
     "name": "stdout",
     "output_type": "stream",
     "text": [
      "B\n"
     ]
    }
   ],
   "source": [
    "d = D()\n",
    "d.show()"
   ]
  },
  {
   "cell_type": "code",
   "execution_count": 187,
   "id": "04b6d192-b99c-4f21-bc4c-fd29b1b94139",
   "metadata": {},
   "outputs": [
    {
     "name": "stdout",
     "output_type": "stream",
     "text": [
      "(<class '__main__.D'>, <class '__main__.B'>, <class '__main__.C'>, <class '__main__.A'>, <class 'object'>)\n"
     ]
    }
   ],
   "source": [
    "print(D.__mro__)"
   ]
  },
  {
   "cell_type": "markdown",
   "id": "bbce7e9e-5c74-48d2-acdb-15a53826ac76",
   "metadata": {},
   "source": [
    "Hybrid Inheritance: Hybrid Inheritance is a combination of multiple and multilevel inheritance patterns.\n",
    "Python handles this complexity using MRO (Method Resolution Order).\n",
    "\n",
    "When you call something like self.method() or super().method(), Python looks for the method in the current class, then parent classes, following a specific order.\n",
    "\n",
    "This order is:\n",
    "\n",
    "The class itself.\n",
    "\n",
    "Its first parent class (left to right).\n",
    "\n",
    "That parent’s parent, and so on.\n",
    "\n",
    "Follows a linearization based on something called C3 Linearization."
   ]
  },
  {
   "cell_type": "code",
   "execution_count": 203,
   "id": "ff70cd5b-33ed-4922-ac07-fdb90185872f",
   "metadata": {},
   "outputs": [
    {
     "name": "stdout",
     "output_type": "stream",
     "text": [
      "----- System Summary -----\n",
      "Samsung SmartHome with controller model CTRL-100X\n",
      "WiFi is connected\n",
      "CTRL-100X is the controller model\n"
     ]
    }
   ],
   "source": [
    "class Device:\n",
    "    def __init__(self,brand):\n",
    "        self.brand = brand\n",
    "\n",
    "    def dev_info(self):\n",
    "        print(f\"{self.brand} is a device\")\n",
    "\n",
    "class Smart_device(Device):\n",
    "    def __init__(self,brand,connectivity):\n",
    "        super().__init__(brand)\n",
    "        self.connectivity = connectivity\n",
    "\n",
    "    def smart_features(self):\n",
    "        print(f\"{self.connectivity} is connected\")\n",
    "\n",
    "class Controller:\n",
    "    def __init__(self,model):\n",
    "        self.model = model\n",
    "\n",
    "    def control_panel(self):\n",
    "        print(f\"{self.model} is the controller model\")\n",
    "\n",
    "class Smarthome(Smart_device,Controller):\n",
    "    def __init__(self,brand,connectivity,model):\n",
    "        Smart_device.__init__(self,brand,connectivity)\n",
    "        Controller.__init__(self,model)\n",
    "\n",
    "    def dev_info(self):\n",
    "        print(f\"{self.brand} SmartHome with controller model {self.model}\")\n",
    "\n",
    "    # ✅ Summary method\n",
    "    def system_summary(self):\n",
    "        print(\"----- System Summary -----\")\n",
    "        self.dev_info()     \n",
    "        self.smart_features()       \n",
    "        self.control_panel()        \n",
    "\n",
    "\n",
    "# Example usage\n",
    "home1 = Smarthome(brand=\"Samsung\",connectivity=\"WiFi\",model=\"CTRL-100X\")\n",
    "home1.system_summary()"
   ]
  },
  {
   "cell_type": "markdown",
   "id": "38f6cc28-397f-4c18-a645-33f8c8939701",
   "metadata": {},
   "source": [
    "Polymorphism:"
   ]
  },
  {
   "cell_type": "markdown",
   "id": "c2078946-29f0-4fce-9186-b2a204d59f76",
   "metadata": {},
   "source": [
    "Polymorphism means \"many forms\".\n",
    "\n",
    "In OOP, it refers to the ability of different classes to respond to the same method name differently.\n",
    "\n"
   ]
  },
  {
   "cell_type": "code",
   "execution_count": 5,
   "id": "4606f60a-9c72-420f-8c4e-5f07dd4d9578",
   "metadata": {},
   "outputs": [
    {
     "name": "stdout",
     "output_type": "stream",
     "text": [
      "smartfan is on\n",
      "smart light is on\n",
      "speaker is on\n"
     ]
    }
   ],
   "source": [
    "class Device:\n",
    "    def operate(self):\n",
    "        print(\"Base operation\")\n",
    "\n",
    "class smartfan(Device):\n",
    "    def operate(self):\n",
    "        print(\"smartfan is on\")\n",
    "\n",
    "class smartlight(Device):\n",
    "    def operate(self):\n",
    "        print(\"smart light is on\")\n",
    "\n",
    "class smartspeaker(Device):\n",
    "    def operate(self):\n",
    "        print(\"speaker is on\")\n",
    "\n",
    "\n",
    "def activate_device(device):\n",
    "    device.operate()\n",
    "\n",
    "devices = [smartfan(),smartlight(),smartspeaker()]\n",
    "\n",
    "for device in devices:\n",
    "    activate_device(device)"
   ]
  },
  {
   "cell_type": "markdown",
   "id": "635f75a7-f471-4c09-91c0-ee7c735d0af2",
   "metadata": {},
   "source": [
    "Dunder methods:"
   ]
  },
  {
   "cell_type": "markdown",
   "id": "c445fcd0-5346-4fe2-a74f-de75f75f8582",
   "metadata": {},
   "source": [
    "self.brightness + other.brightness\n",
    "\n",
    "obj1.brightness + obj2.brightness ( light1.brightness + light2.brightness)"
   ]
  },
  {
   "cell_type": "code",
   "execution_count": 16,
   "id": "e3402e26-a11e-4280-a9f0-de30c8d394a4",
   "metadata": {},
   "outputs": [],
   "source": [
    "class smartlight:\n",
    "    def __init__(self,brand,brightness):\n",
    "        self.brand = brand\n",
    "        self.brightness = brightness\n",
    "\n",
    "    def __str__(self):\n",
    "        return f\"{self.brand} is glowing at {self.brightness} brightness\"\n",
    "\n",
    "    def __eq__(self,other):\n",
    "        return self.brightness == other.brightness\n",
    "\n",
    "    def __add__(self,other):\n",
    "        return self.brightness + other.brightness\n",
    "\n",
    "\n",
    "light1 = smartlight(\"Philips\",40)\n",
    "light2 = smartlight(\"Havells\",30)"
   ]
  },
  {
   "cell_type": "code",
   "execution_count": 17,
   "id": "88e630d5-b5b1-44b7-b893-05c0905dacc0",
   "metadata": {},
   "outputs": [
    {
     "name": "stdout",
     "output_type": "stream",
     "text": [
      "Philips is glowing at 40 brightness\n",
      "False\n",
      "70\n"
     ]
    }
   ],
   "source": [
    "print(light1)\n",
    "print(light1 == light2)\n",
    "print(light1 + light2)"
   ]
  },
  {
   "cell_type": "markdown",
   "id": "200d494a-957b-4b05-943d-12b2b3aadd92",
   "metadata": {},
   "source": [
    "Class methods vs instance methods:"
   ]
  },
  {
   "cell_type": "code",
   "execution_count": 27,
   "id": "14e37339-00d4-44c7-bb8b-f1476ed6eebd",
   "metadata": {},
   "outputs": [],
   "source": [
    "class smartlight:\n",
    "    _total_lights_count = 0\n",
    "    def __init__(self,brand,brightness):\n",
    "        self.brand = brand\n",
    "        self.brightness = brightness\n",
    "        smartlight._total_lights_count += 1\n",
    "\n",
    "    def details(self):\n",
    "        return f\"{self.brand} is glowing at {self.brightness} % brightness\"\n",
    "\n",
    "    @classmethod\n",
    "    def total_lights(cls):\n",
    "        return f\"There are {cls._total_lights_count} lights\"\n",
    "\n",
    "    @staticmethod\n",
    "    def show_features():\n",
    "        return \"Supports scheduling and remote access\"\n",
    "\n",
    "\n",
    "light1 = smartlight(\"Philips\",70)"
   ]
  },
  {
   "cell_type": "code",
   "execution_count": 28,
   "id": "25c028a0-feef-4cf2-bb23-8f39f195294b",
   "metadata": {},
   "outputs": [
    {
     "data": {
      "text/plain": [
       "'Philips is glowing at 70 % brightness'"
      ]
     },
     "execution_count": 28,
     "metadata": {},
     "output_type": "execute_result"
    }
   ],
   "source": [
    "light1.details()"
   ]
  },
  {
   "cell_type": "code",
   "execution_count": 29,
   "id": "3519ac03-9558-4c60-afcb-658abc26415f",
   "metadata": {},
   "outputs": [
    {
     "data": {
      "text/plain": [
       "'There are 1 lights'"
      ]
     },
     "execution_count": 29,
     "metadata": {},
     "output_type": "execute_result"
    }
   ],
   "source": [
    "light1.total_lights()"
   ]
  },
  {
   "cell_type": "code",
   "execution_count": 30,
   "id": "9a9b1f32-e49b-48e6-9980-660aa58c5fea",
   "metadata": {},
   "outputs": [
    {
     "data": {
      "text/plain": [
       "'Supports scheduling and remote access'"
      ]
     },
     "execution_count": 30,
     "metadata": {},
     "output_type": "execute_result"
    }
   ],
   "source": [
    "light1.show_features()"
   ]
  },
  {
   "cell_type": "code",
   "execution_count": 32,
   "id": "85082057-a20d-462d-ade3-c18794ecf669",
   "metadata": {},
   "outputs": [
    {
     "data": {
      "text/plain": [
       "'There are 1 lights'"
      ]
     },
     "execution_count": 32,
     "metadata": {},
     "output_type": "execute_result"
    }
   ],
   "source": [
    "light1.total_lights()"
   ]
  },
  {
   "cell_type": "markdown",
   "id": "0b943661-5b9d-4367-b217-1cfe2ec3f28a",
   "metadata": {},
   "source": [
    "Composition:\n",
    "\n",
    "has - a relationship:"
   ]
  },
  {
   "cell_type": "code",
   "execution_count": 47,
   "id": "c16d56b2-cba8-4e87-92b6-064558512ab4",
   "metadata": {},
   "outputs": [],
   "source": [
    "class smartdevice:\n",
    "    def __init__(self,name,status):\n",
    "        self.name = name\n",
    "        self.status = bool(status)\n",
    "\n",
    "    def toggle(self):\n",
    "        self.status = not self.status\n",
    "        \n",
    "    def __str__(self):\n",
    "        return f\"Device is now {\"ON\" if self.status else \"OFF\"}\"\n",
    "\n",
    "class Room:\n",
    "    def __init__(self,room_name,devices):\n",
    "        self.room_name = room_name\n",
    "        self.devices = devices\n",
    "\n",
    "    def show_devices(self):\n",
    "        for device in self.devices:\n",
    "            print(device)\n",
    "\n",
    "    def activate_all(self):\n",
    "        for device in self.devices:\n",
    "            if not device.status:\n",
    "                device.toggle()\n",
    "\n",
    "\n",
    "light = smartdevice(name=\"Philips\",status=True)\n",
    "fan = smartdevice(name=\"Chrompton\",status=False)\n",
    "\n",
    "hall = Room(room_name=\"Hall\",devices=[light,fan])"
   ]
  },
  {
   "cell_type": "code",
   "execution_count": 48,
   "id": "2c1c9adb-7ae1-4e3e-816c-1c64cabe8800",
   "metadata": {},
   "outputs": [
    {
     "name": "stdout",
     "output_type": "stream",
     "text": [
      "Device is now ON\n",
      "Device is now OFF\n"
     ]
    }
   ],
   "source": [
    "hall.show_devices()"
   ]
  },
  {
   "cell_type": "code",
   "execution_count": 52,
   "id": "72ecc1bd-3915-4483-ace6-9848833b2a71",
   "metadata": {},
   "outputs": [
    {
     "data": {
      "text/plain": [
       "'Hall'"
      ]
     },
     "execution_count": 52,
     "metadata": {},
     "output_type": "execute_result"
    }
   ],
   "source": [
    "hall.room_name"
   ]
  },
  {
   "cell_type": "code",
   "execution_count": 54,
   "id": "07a310ad-00ef-4c8d-972e-c23175aae7e0",
   "metadata": {},
   "outputs": [],
   "source": [
    "hall.activate_all()"
   ]
  },
  {
   "cell_type": "code",
   "execution_count": 57,
   "id": "ddbea419-dfab-40ae-95c1-5144823289b2",
   "metadata": {},
   "outputs": [
    {
     "name": "stdout",
     "output_type": "stream",
     "text": [
      "Device is now OFF\n",
      "Device is now ON\n"
     ]
    }
   ],
   "source": [
    "hall.show_devices()"
   ]
  }
 ],
 "metadata": {
  "kernelspec": {
   "display_name": "Python 3",
   "language": "python",
   "name": "python3"
  },
  "language_info": {
   "codemirror_mode": {
    "name": "ipython",
    "version": 3
   },
   "file_extension": ".py",
   "mimetype": "text/x-python",
   "name": "python",
   "nbconvert_exporter": "python",
   "pygments_lexer": "ipython3",
   "version": "3.12.10"
  }
 },
 "nbformat": 4,
 "nbformat_minor": 5
}
